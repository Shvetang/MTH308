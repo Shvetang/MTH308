{
 "cells": [
  {
   "cell_type": "code",
   "execution_count": 1,
   "id": "c2e67a36-6099-4a7b-aada-db1eb890aa4a",
   "metadata": {},
   "outputs": [
    {
     "name": "stdout",
     "output_type": "stream",
     "text": [
      "Defaulting to user installation because normal site-packages is not writeable\n",
      "Requirement already satisfied: pandas in c:\\programdata\\anaconda3\\lib\\site-packages (2.2.2)\n",
      "Requirement already satisfied: numpy>=1.26.0 in c:\\programdata\\anaconda3\\lib\\site-packages (from pandas) (1.26.4)\n",
      "Requirement already satisfied: python-dateutil>=2.8.2 in c:\\programdata\\anaconda3\\lib\\site-packages (from pandas) (2.9.0.post0)\n",
      "Requirement already satisfied: pytz>=2020.1 in c:\\programdata\\anaconda3\\lib\\site-packages (from pandas) (2024.1)\n",
      "Requirement already satisfied: tzdata>=2022.7 in c:\\programdata\\anaconda3\\lib\\site-packages (from pandas) (2023.3)\n",
      "Requirement already satisfied: six>=1.5 in c:\\programdata\\anaconda3\\lib\\site-packages (from python-dateutil>=2.8.2->pandas) (1.16.0)\n"
     ]
    }
   ],
   "source": [
    "# Code to find the zeros of the function f(x) = x^3 - 5x + 1\n",
    "# Noting that the derivative of f, i.e. f'(x) = 3x^2 - 5 has 2 distinct real roots, it is expected that the function f has 3 distinct roots\n",
    "\n",
    "! pip install pandas\n",
    "import pandas as pd\n",
    "\n",
    "# Define the function\n",
    "def f(x):\n",
    "    return x**3 - 5*x + 1"
   ]
  },
  {
   "cell_type": "code",
   "execution_count": 28,
   "id": "9ffebb28-7794-40e0-b5ac-5e644b1146c7",
   "metadata": {},
   "outputs": [],
   "source": [
    "# Define the bisection method\n",
    "def bisection_method(x_l, x_u, df):\n",
    "    \n",
    "    x_m_new = (x_l + x_u)/2\n",
    "    df[\"Iteration\"].append(1)\n",
    "    df[\"x_l\"].append(x_l)\n",
    "    df[\"x_u\"].append(x_u)\n",
    "    \n",
    "    if f(x_m_new)==0:\n",
    "        print(\"Root found:\", x_m_new)\n",
    "        \n",
    "    elif f(x_m_new)*f(x_l)<0:     # Root is between x_l and x_m\n",
    "        x_u = x_m_new             # Set new upper bound as x_m_new\n",
    "        \n",
    "    elif f(x_m_new)*f(x_u)<0:     # Root is between x_m and x_u\n",
    "        x_l = x_m_new             # Set new lower bound as x_m_new\n",
    "\n",
    "    df[\"x_m\"].append(x_m_new)\n",
    "    df[\"f(x_m)\"].append(f(x_m_new))\n",
    "    \n",
    "    x_m_old = x_m_new\n",
    "\n",
    "    for i in range(9):\n",
    "        x_m_new = (x_l + x_u)/2\n",
    "        \n",
    "        df[\"Iteration\"].append(i+2)\n",
    "        df[\"x_l\"].append(x_l)\n",
    "        df[\"x_u\"].append(x_u)\n",
    "        \n",
    "        if f(x_m_new)==0:\n",
    "            print(\"Root found:\", x_m_new)\n",
    "            break\n",
    "            \n",
    "        elif f(x_m_new)*f(x_l)<0:     # Root is between x_l and x_m\n",
    "            x_u = x_m_new             # Set new upper bound as x_m_new\n",
    "            \n",
    "        elif f(x_m_new)*f(x_u)<0:     # Root is between x_m and x_u\n",
    "            x_l = x_m_new             # Set new lower bound as x_m_new\n",
    "            \n",
    "        df[\"x_m\"].append(x_m_new)\n",
    "        df[\"f(x_m)\"].append(f(x_m_new))\n",
    "\n",
    "        e = abs((x_m_new - x_m_old)/x_m_new)*100     # Find error\n",
    "        df[\"|Error| in %\"].append(e) \n",
    "\n",
    "        x_m_old = x_m_new\n",
    "        x_m_new = (x_l + x_u)/2\n"
   ]
  },
  {
   "cell_type": "code",
   "execution_count": 26,
   "id": "23215673-fb93-44f2-a91e-49b3dc57edb1",
   "metadata": {},
   "outputs": [
    {
     "name": "stdout",
     "output_type": "stream",
     "text": [
      "f(-3) = -11\n",
      "f(0) = 1\n",
      "f(1) = -3\n",
      "f(3) = 13\n"
     ]
    }
   ],
   "source": [
    "# Note the following behavior of the function\n",
    "print(\"f(-3) =\", f(-3))\n",
    "print(\"f(0) =\", f(0))\n",
    "print(\"f(1) =\", f(1))\n",
    "print(\"f(3) =\", f(3))\n",
    "# From the alternating of the signs we can say that there is a root between -3 and 0, another between 0 and 1 and another between 1 and 3"
   ]
  },
  {
   "cell_type": "code",
   "execution_count": 34,
   "id": "1b027063-2da9-4f30-8275-16c00c0c922f",
   "metadata": {},
   "outputs": [
    {
     "name": "stdout",
     "output_type": "stream",
     "text": [
      "   Iteration       x_l       x_u       x_m  |Error| in %    f(x_m)\n",
      "0          1 -3.000000  0.000000 -1.500000           NaN  5.125000\n",
      "1          2 -3.000000 -1.500000 -2.250000     33.333333  0.859375\n",
      "2          3 -3.000000 -2.250000 -2.625000     14.285714 -3.962891\n",
      "3          4 -2.625000 -2.250000 -2.437500      7.692308 -1.294678\n",
      "4          5 -2.437500 -2.250000 -2.343750      4.000000 -0.155853\n",
      "5          6 -2.343750 -2.250000 -2.296875      2.040816  0.366901\n",
      "6          7 -2.343750 -2.296875 -2.320312      1.010101  0.109348\n",
      "7          8 -2.343750 -2.320312 -2.332031      0.502513 -0.022292\n",
      "8          9 -2.332031 -2.320312 -2.326172      0.251889  0.043768\n",
      "9         10 -2.332031 -2.326172 -2.329102      0.125786  0.010798\n"
     ]
    }
   ],
   "source": [
    "# Call the bisection methode for all three intervals\n",
    "df = { \"Iteration\" : [], \"x_l\" : [], \"x_u\" : [], \"x_m\" : [], \"|Error| in %\" : [None], \"f(x_m)\" : []}\n",
    "bisection_method(-3, 0, df)\n",
    "df = pd.DataFrame.from_dict(df)  # Create table\n",
    "print(df)"
   ]
  },
  {
   "cell_type": "code",
   "execution_count": 35,
   "id": "637fe843-b312-4840-a1b7-a9f0e309e2a5",
   "metadata": {},
   "outputs": [
    {
     "name": "stdout",
     "output_type": "stream",
     "text": [
      "   Iteration       x_l       x_u       x_m  |Error| in %    f(x_m)\n",
      "0          1  0.000000  1.000000  0.500000           NaN -1.375000\n",
      "1          2  0.000000  0.500000  0.250000    100.000000 -0.234375\n",
      "2          3  0.000000  0.250000  0.125000    100.000000  0.376953\n",
      "3          4  0.125000  0.250000  0.187500     33.333333  0.069092\n",
      "4          5  0.187500  0.250000  0.218750     14.285714 -0.083282\n",
      "5          6  0.187500  0.218750  0.203125      7.692308 -0.007244\n",
      "6          7  0.187500  0.203125  0.195312      4.000000  0.030888\n",
      "7          8  0.195312  0.203125  0.199219      1.960784  0.011813\n",
      "8          9  0.199219  0.203125  0.201172      0.970874  0.002282\n",
      "9         10  0.201172  0.203125  0.202148      0.483092 -0.002482\n"
     ]
    }
   ],
   "source": [
    "df = { \"Iteration\" : [], \"x_l\" : [], \"x_u\" : [], \"x_m\" : [], \"|Error| in %\" : [None], \"f(x_m)\" : []}\n",
    "bisection_method(0, 1, df)\n",
    "df = pd.DataFrame.from_dict(df)  # Create table\n",
    "print(df)"
   ]
  },
  {
   "cell_type": "code",
   "execution_count": 36,
   "id": "7eb598ee-ac87-4303-bac9-1203ec4bafa5",
   "metadata": {},
   "outputs": [
    {
     "name": "stdout",
     "output_type": "stream",
     "text": [
      "   Iteration    x_l       x_u       x_m  |Error| in %    f(x_m)\n",
      "0          1  1.000  3.000000  2.000000           NaN -1.000000\n",
      "1          2  2.000  3.000000  2.500000     20.000000  4.125000\n",
      "2          3  2.000  2.500000  2.250000     11.111111  1.140625\n",
      "3          4  2.000  2.250000  2.125000      5.882353 -0.029297\n",
      "4          5  2.125  2.250000  2.187500      2.857143  0.530029\n",
      "5          6  2.125  2.187500  2.156250      1.449275  0.244049\n",
      "6          7  2.125  2.156250  2.140625      0.729927  0.105808\n",
      "7          8  2.125  2.140625  2.132812      0.366300  0.037865\n",
      "8          9  2.125  2.132812  2.128906      0.183486  0.004187\n",
      "9         10  2.125  2.128906  2.126953      0.091827 -0.012579\n"
     ]
    }
   ],
   "source": [
    "df = { \"Iteration\" : [], \"x_l\" : [], \"x_u\" : [], \"x_m\" : [], \"|Error| in %\" : [None], \"f(x_m)\" : []}\n",
    "bisection_method(1, 3, df)\n",
    "df = pd.DataFrame.from_dict(df)  # Create table\n",
    "print(df)"
   ]
  },
  {
   "cell_type": "code",
   "execution_count": 37,
   "id": "555b022a-ae05-4353-8948-bc830dacf35a",
   "metadata": {},
   "outputs": [
    {
     "name": "stdout",
     "output_type": "stream",
     "text": [
      "The bisection algorithm is an algorithm to find the roots of a continuous function using the simple property of intermediate values:\n",
      "     if a function changes sign in an interval, it has atleast one root in that interval. Thus we guess possible intervals in which the roots lie\n",
      "     and adjust the bounds repeatedly by dividing the interval in halves and checking which half the root lies in, by comparing signs with the functional\n",
      "     value at the midpoint\n"
     ]
    }
   ],
   "source": [
    "print('''The bisection algorithm is an algorithm to find the roots of a continuous function using the simple property of intermediate values:\n",
    "     if a function changes sign in an interval, it has atleast one root in that interval. Thus we guess possible intervals in which the roots lie\n",
    "     and adjust the bounds repeatedly by dividing the interval in halves and checking which half the root lies in, by comparing signs with the functional\n",
    "     value at the midpoint''')"
   ]
  }
 ],
 "metadata": {
  "kernelspec": {
   "display_name": "Python 3 (ipykernel)",
   "language": "python",
   "name": "python3"
  },
  "language_info": {
   "codemirror_mode": {
    "name": "ipython",
    "version": 3
   },
   "file_extension": ".py",
   "mimetype": "text/x-python",
   "name": "python",
   "nbconvert_exporter": "python",
   "pygments_lexer": "ipython3",
   "version": "3.12.7"
  }
 },
 "nbformat": 4,
 "nbformat_minor": 5
}
