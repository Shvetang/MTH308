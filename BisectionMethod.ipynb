{
 "cells": [
  {
   "cell_type": "markdown",
   "id": "a8a48210-acc9-4fd8-8634-2d11d345e25f",
   "metadata": {},
   "source": [
    "# The Bisection Method\n",
    "The bisection algorithm is an algorithm to find the roots of a continuous function using the simple **property of intermediate values**:\n",
    "if a function changes sign in an interval, it has atleast one root in that interval.   \n",
    "Thus we guess possible intervals in which the roots lie and adjust the bounds repeatedly by dividing the interval in halves and checking which half the root lies in, by comparing signs with the functional value at the midpoint   \n",
    "\n",
    "## Algorithm:\n",
    "\n",
    "- Input:    \n",
    "    - Function f(x) to find the root of.\n",
    "    - Interval [a,b] such that f(a)⋅f(b)<0\n",
    "    - Tolerance level ϵ\n",
    "\n",
    "- Check initial condition:    \n",
    "    - If f(a)⋅f(b)>0 , then a root might not exist within the given interval, and the method cannot be applied. Otherwise, proceed.\n",
    "\n",
    "- Iterative Steps:     \n",
    "    - Set n=0 (iteration counter).\n",
    "    - While (b−a)/2>ϵ\n",
    "        - Compute the midpoint m=(a+b)/2\n",
    "        - Compute f(m)\n",
    "        - If f(m)=0, then m is the root and stop.\n",
    "        - If f(a)⋅f(m)<0, set b=m\n",
    "        - Else, set a=m\n",
    "        - Increment i (iteration counter) and stop when the new value of m and the old value of m differ by less than the given tolerance value\n",
    "\n",
    "Output:\n",
    "        The root approximation is m, with an error less than the tolerance ϵ"
   ]
  },
  {
   "cell_type": "code",
   "execution_count": 2,
   "id": "a6f6c836-2609-47fe-a4c7-2b50a3763e44",
   "metadata": {},
   "outputs": [],
   "source": [
    "# Define the function\n",
    "def f(x):\n",
    "    return math.sin(x) - x**2"
   ]
  },
  {
   "cell_type": "code",
   "execution_count": 3,
   "id": "9ffebb28-7794-40e0-b5ac-5e644b1146c7",
   "metadata": {},
   "outputs": [],
   "source": [
    "# Define the bisection method\n",
    "def bisection_method(x_l, x_u, df):\n",
    "    \n",
    "    x_m_new = (x_l + x_u)/2\n",
    "    df[\"Iteration\"].append(1)\n",
    "    df[\"x_l\"].append(x_l)\n",
    "    df[\"x_u\"].append(x_u)\n",
    "    \n",
    "    if f(x_m_new)==0:\n",
    "        print(\"Root found:\", x_m_new)\n",
    "        \n",
    "    elif f(x_m_new)*f(x_l)<0:     # Root is between x_l and x_m\n",
    "        x_u = x_m_new             # Set new upper bound as x_m_new\n",
    "        \n",
    "    elif f(x_m_new)*f(x_u)<0:     # Root is between x_m and x_u\n",
    "        x_l = x_m_new             # Set new lower bound as x_m_new\n",
    "\n",
    "    df[\"x_m\"].append(x_m_new)\n",
    "    df[\"f(x_m)\"].append(f(x_m_new))\n",
    "\n",
    "    i = 0\n",
    "    while (i==0 or abs(x_m_new - x_m_old)>1e-6):\n",
    "        x_m_old = x_m_new\n",
    "        x_m_new = (x_l + x_u)/2\n",
    "        \n",
    "        df[\"Iteration\"].append(i+2)\n",
    "        df[\"x_l\"].append(x_l)\n",
    "        df[\"x_u\"].append(x_u)\n",
    "        \n",
    "        if f(x_m_new)==0:\n",
    "            print(\"Root found:\", x_m_new)\n",
    "            break\n",
    "            \n",
    "        elif f(x_m_new)*f(x_l)<0:     # Root is between x_l and x_m\n",
    "            x_u = x_m_new             # Set new upper bound as x_m_new\n",
    "            \n",
    "        elif f(x_m_new)*f(x_u)<0:     # Root is between x_m and x_u\n",
    "            x_l = x_m_new             # Set new lower bound as x_m_new\n",
    "            \n",
    "        df[\"x_m\"].append(x_m_new)\n",
    "        df[\"f(x_m)\"].append(f(x_m_new))\n",
    "\n",
    "        e = abs((x_m_new - x_m_old)/x_m_new)*100     # Find error\n",
    "        df[\"|Error| in %\"].append(e) \n",
    "        i+=1\n",
    "    return x_m_old, x_m_new"
   ]
  },
  {
   "cell_type": "code",
   "execution_count": 4,
   "id": "23215673-fb93-44f2-a91e-49b3dc57edb1",
   "metadata": {},
   "outputs": [
    {
     "name": "stdout",
     "output_type": "stream",
     "text": [
      "f(0.5) = 0.229425538604203\n",
      "f(1) = -0.1585290151921035\n"
     ]
    }
   ],
   "source": [
    "# Note the following behavior of the function\n",
    "print(\"f(0.5) =\", f(0.5))\n",
    "print(\"f(1) =\", f(1))\n",
    "# From the alternating of the signs we can say that there is a root between 0.5 and 1, as expected "
   ]
  },
  {
   "cell_type": "code",
   "execution_count": 5,
   "id": "1b027063-2da9-4f30-8275-16c00c0c922f",
   "metadata": {},
   "outputs": [
    {
     "name": "stdout",
     "output_type": "stream",
     "text": [
      "    Iteration       x_l       x_u       x_m  |Error| in %        f(x_m)\n",
      "0           1  0.500000  1.000000  0.750000           NaN  1.191388e-01\n",
      "1           2  0.750000  1.000000  0.875000     14.285714  1.918502e-03\n",
      "2           3  0.875000  1.000000  0.937500      6.666667 -7.282514e-02\n",
      "3           4  0.875000  0.937500  0.906250      3.448276 -3.409242e-02\n",
      "4           5  0.875000  0.906250  0.890625      1.754386 -1.574791e-02\n",
      "5           6  0.875000  0.890625  0.882812      0.884956 -6.830094e-03\n",
      "6           7  0.875000  0.882812  0.878906      0.444444 -2.434662e-03\n",
      "7           8  0.875000  0.878906  0.876953      0.222717 -2.527990e-04\n",
      "8           9  0.875000  0.876953  0.875977      0.111483  8.341716e-04\n",
      "9          10  0.875977  0.876953  0.876465      0.055710  2.910163e-04\n",
      "10         11  0.876465  0.876953  0.876709      0.027847  1.919118e-05\n",
      "11         12  0.876709  0.876953  0.876831      0.013922 -1.167833e-04\n",
      "12         13  0.876709  0.876831  0.876770      0.006961 -4.879089e-05\n",
      "13         14  0.876709  0.876770  0.876740      0.003481 -1.479857e-05\n",
      "14         15  0.876709  0.876740  0.876724      0.001740  2.196629e-06\n",
      "15         16  0.876724  0.876740  0.876732      0.000870 -6.300888e-06\n",
      "16         17  0.876724  0.876732  0.876728      0.000435 -2.052109e-06\n",
      "17         18  0.876724  0.876728  0.876726      0.000218  7.226477e-08\n",
      "18         19  0.876726  0.876728  0.876727      0.000109 -9.899211e-07\n"
     ]
    }
   ],
   "source": [
    "# Call the bisection method for this interval\n",
    "df = { \"Iteration\" : [], \"x_l\" : [], \"x_u\" : [], \"x_m\" : [], \"|Error| in %\" : [None], \"f(x_m)\" : []}\n",
    "x_m_old, x_m_new = bisection_method(0.5, 1, df)\n",
    "df = pd.DataFrame.from_dict(df)  # Create table\n",
    "print(df)"
   ]
  },
  {
   "cell_type": "code",
   "execution_count": 6,
   "id": "236fcc98-bafb-4ae1-9f28-da1f43940524",
   "metadata": {},
   "outputs": [
    {
     "name": "stdout",
     "output_type": "stream",
     "text": [
      "Final Result : 0.8767271041870117 with |Error|% : 0.00010877664347911216\n"
     ]
    }
   ],
   "source": [
    "print(f\"Final Result : {x_m_new} with |Error|% : {abs((x_m_new - x_m_old)/x_m_new)*100}\")"
   ]
  },
  {
   "cell_type": "code",
   "execution_count": 8,
   "id": "7582bf27-65c6-4645-be0f-b1abaf8933ef",
   "metadata": {},
   "outputs": [
    {
     "name": "stdout",
     "output_type": "stream",
     "text": [
      "9.5367431640625e-07\n",
      "False\n"
     ]
    }
   ],
   "source": [
    "print(abs(x_m_new - x_m_old))   # Confirming that we have satisfied the tolerance criterion\n",
    "print(abs(x_m_new - x_m_old)>1e-6)"
   ]
  }
 ],
 "metadata": {
  "kernelspec": {
   "display_name": "Python 3 (ipykernel)",
   "language": "python",
   "name": "python3"
  },
  "language_info": {
   "codemirror_mode": {
    "name": "ipython",
    "version": 3
   },
   "file_extension": ".py",
   "mimetype": "text/x-python",
   "name": "python",
   "nbconvert_exporter": "python",
   "pygments_lexer": "ipython3",
   "version": "3.12.7"
  }
 },
 "nbformat": 4,
 "nbformat_minor": 5
}
