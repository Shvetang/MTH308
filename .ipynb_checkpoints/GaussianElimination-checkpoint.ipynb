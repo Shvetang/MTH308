{
 "cells": [
  {
   "cell_type": "code",
   "execution_count": 4,
   "id": "935d0fd4-a262-43fa-b50a-b02da7a837cb",
   "metadata": {},
   "outputs": [],
   "source": [
    "import numpy as np"
   ]
  },
  {
   "cell_type": "code",
   "execution_count": 12,
   "id": "3dfa8d86-a861-45b1-9bad-f85b3d56efc6",
   "metadata": {},
   "outputs": [
    {
     "name": "stdin",
     "output_type": "stream",
     "text": [
      "Enter the number of equations:  3\n",
      "Enter the number of variables:  3\n"
     ]
    }
   ],
   "source": [
    "n = int(input(\"Enter the number of equations: \")) \n",
    "var = int(input(\"Enter the number of variables: \"))"
   ]
  },
  {
   "cell_type": "code",
   "execution_count": 14,
   "id": "fc200248-2ec3-4a74-8e7e-5e1c08569bff",
   "metadata": {},
   "outputs": [
    {
     "name": "stdin",
     "output_type": "stream",
     "text": [
      "Enter the coefficient of variable 1 in equation 1:  0\n",
      "Enter the coefficient of variable 2 in equation 1:  3 \n",
      "Enter the coefficient of variable 3 in equation 1:  4\n",
      "Enter the coefficient of variable 1 in equation 2:  0\n",
      "Enter the coefficient of variable 2 in equation 2:  4 \n",
      "Enter the coefficient of variable 3 in equation 2:  4\n",
      "Enter the coefficient of variable 1 in equation 3:  0 \n",
      "Enter the coefficient of variable 2 in equation 3:  1\n",
      "Enter the coefficient of variable 3 in equation 3:  1\n"
     ]
    }
   ],
   "source": [
    "l = []\n",
    "for i in range(n):\n",
    "    row = []\n",
    "    for j in range(var):\n",
    "        val = float(input(f\"Enter the coefficient of variable {j+1} in equation {i+1}: \"))\n",
    "        row.append(val)\n",
    "    l.append(row)\n",
    "mat = np.array(l)"
   ]
  },
  {
   "cell_type": "code",
   "execution_count": 15,
   "id": "fcd88d46-de1d-4dd7-8209-ac0616b42ade",
   "metadata": {},
   "outputs": [
    {
     "name": "stdout",
     "output_type": "stream",
     "text": [
      "[[0. 3. 4.]\n",
      " [0. 4. 4.]\n",
      " [0. 1. 1.]]\n"
     ]
    }
   ],
   "source": [
    "print(mat)"
   ]
  },
  {
   "cell_type": "code",
   "execution_count": 16,
   "id": "0944da23-a4f2-4085-a2b3-92bd9f143d04",
   "metadata": {},
   "outputs": [],
   "source": [
    "def RowOper_1(r, c):\n",
    "    mat[r,:] /= mat[r][c]\n",
    "\n",
    "def RowOper_2(r, c):\n",
    "    mat[r,:] -= 1/mat[r][c]\n",
    "\n",
    "def RowOper_3(r1, r2):\n",
    "    temp = mat[r1,:]\n",
    "    mat[r1,:] = mat[r2,:]\n",
    "    mat[r2,:] = temp"
   ]
  },
  {
   "cell_type": "code",
   "execution_count": 20,
   "id": "5e5c27e9-f25a-4fe1-a1ba-62a2128ef841",
   "metadata": {},
   "outputs": [],
   "source": [
    "def GaussianElimination(n, var):\n",
    "    for j in range(var):\n",
    "        flag = 0\n",
    "        for i in range(n):\n",
    "            if mat[i][j]!=0:\n",
    "                flag = 1\n",
    "                break\n",
    "        if flag==0:\n",
    "            continue\n",
    "        else:\n",
    "            RowOper_3(0, i)\n",
    "            RowOper_1(0, j)"
   ]
  },
  {
   "cell_type": "code",
   "execution_count": 19,
   "id": "fbd3383e-9c84-4d57-8bf5-27cc251906de",
   "metadata": {},
   "outputs": [
    {
     "name": "stdout",
     "output_type": "stream",
     "text": [
      "0\n"
     ]
    }
   ],
   "source": [
    "print(np.argmax(mat[:, 1] != 0))"
   ]
  },
  {
   "cell_type": "code",
   "execution_count": null,
   "id": "6f697ec5-037c-43d1-9980-2db2127b46d9",
   "metadata": {},
   "outputs": [],
   "source": []
  }
 ],
 "metadata": {
  "kernelspec": {
   "display_name": "Python 3 (ipykernel)",
   "language": "python",
   "name": "python3"
  },
  "language_info": {
   "codemirror_mode": {
    "name": "ipython",
    "version": 3
   },
   "file_extension": ".py",
   "mimetype": "text/x-python",
   "name": "python",
   "nbconvert_exporter": "python",
   "pygments_lexer": "ipython3",
   "version": "3.10.16"
  }
 },
 "nbformat": 4,
 "nbformat_minor": 5
}
