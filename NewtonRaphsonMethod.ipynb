{
 "cells": [
  {
   "cell_type": "markdown",
   "id": "1165b6fa-dcca-407b-835f-8e7f633247be",
   "metadata": {},
   "source": [
    "# The Newton-Raphson Method\n",
    "Calculate the next estimate of the root from an initial guesses  \n",
    "x<sub>i+1</sub> = x<sub>i</sub> - f(x<sub>i</sub>)/(f'(x<sub>i</sub>)  \n",
    "The absolute relative error can be calculated as e = |x<sub>i+1</sub> - x<sub>i</sub>|/|x<sub>i+1</sub>|   \n",
    "Works by repeatedly taking the linear approximation of the function "
   ]
  },
  {
   "cell_type": "code",
   "execution_count": 1,
   "id": "edc1c42f-0ed0-4624-b7dd-2b56b66c1097",
   "metadata": {},
   "outputs": [],
   "source": [
    "import pandas as pd\n",
    "import math"
   ]
  },
  {
   "cell_type": "code",
   "execution_count": 2,
   "id": "a2789ae1-5b1f-4f19-8b9b-4a142350a0e2",
   "metadata": {},
   "outputs": [],
   "source": [
    "# Define the function\n",
    "def f(x):\n",
    "    return x**2 - math.sin(x)"
   ]
  },
  {
   "cell_type": "code",
   "execution_count": 3,
   "id": "c623bd2f-01ed-4b3f-8a46-dfed567bfb07",
   "metadata": {},
   "outputs": [],
   "source": [
    "# Define the derivative of the function\n",
    "def f_(x):\n",
    "    return 2*x - math.cos(x)"
   ]
  },
  {
   "cell_type": "code",
   "execution_count": 4,
   "id": "41601ca8-8999-4860-93d7-860e45837b5d",
   "metadata": {},
   "outputs": [],
   "source": [
    "# Set x_0\n",
    "x_0 = 1.0"
   ]
  },
  {
   "cell_type": "code",
   "execution_count": 5,
   "id": "c1458497-7105-4c8c-b443-95c580c91dd6",
   "metadata": {},
   "outputs": [],
   "source": [
    "result = {\"Iteration\":[0], \"x_i-1\":[x_0], \"x_i\":[], \"f(x_i)\":[], \"Absolute error %\":[]}"
   ]
  },
  {
   "cell_type": "code",
   "execution_count": 6,
   "id": "defe0c5e-0dc2-49b3-a378-12b9017c4218",
   "metadata": {},
   "outputs": [],
   "source": [
    "# Define the algorithm\n",
    "def newtonraphson_method(x_i_1):\n",
    "    x_i = x_i_1 - f(x_i_1)/f_(x_i_1)\n",
    "    e = abs((x_i - x_i_1)/x_i)\n",
    "    return x_i, e"
   ]
  },
  {
   "cell_type": "code",
   "execution_count": 7,
   "id": "63aa2411-3590-442f-8e4b-7ff1e5f86f1f",
   "metadata": {},
   "outputs": [],
   "source": [
    "x_1, e = newtonraphson_method(x_0)\n",
    "result[\"x_i\"].append(x_1)\n",
    "result[\"f(x_i)\"].append(f(x_1))\n",
    "result[\"Absolute error %\"].append(e)"
   ]
  },
  {
   "cell_type": "code",
   "execution_count": 8,
   "id": "df24553f-adc7-4d00-b1c9-e033e4087712",
   "metadata": {},
   "outputs": [
    {
     "name": "stdout",
     "output_type": "stream",
     "text": [
      "Root found: 0.8767262153950625\n"
     ]
    }
   ],
   "source": [
    "x_i_1 = x_1\n",
    "n = 9\n",
    "for i in range(n):\n",
    "    x_i, e = newtonraphson_method(x_i_1)\n",
    "    \n",
    "    result[\"Iteration\"].append(i+1)\n",
    "    result[\"x_i-1\"].append(x_i_1)\n",
    "    result[\"x_i\"].append(x_i)\n",
    "    result[\"f(x_i)\"].append(f(x_i))\n",
    "    result[\"Absolute error %\"].append(e)\n",
    "\n",
    "    if f(x_i)==0:\n",
    "        print(\"Root found:\", x_i)\n",
    "        break\n",
    "        \n",
    "    x_i_1 = x_i"
   ]
  },
  {
   "cell_type": "code",
   "execution_count": 9,
   "id": "ff26c2b7-bb32-48d0-b5fc-1ff39b0151c3",
   "metadata": {},
   "outputs": [
    {
     "name": "stdout",
     "output_type": "stream",
     "text": [
      "   Iteration     x_i-1       x_i        f(x_i)  Absolute error %\n",
      "0          0  1.000000  0.891396  1.663717e-02      1.218359e-01\n",
      "1          1  0.891396  0.876985  2.881492e-04      1.643261e-02\n",
      "2          2  0.876985  0.876726  9.254050e-08      2.948997e-04\n",
      "3          3  0.876726  0.876726  9.436896e-15      9.476932e-08\n",
      "4          4  0.876726  0.876726  1.110223e-16      9.624093e-15\n",
      "5          5  0.876726  0.876726  0.000000e+00      1.266328e-16\n"
     ]
    }
   ],
   "source": [
    "df = pd.DataFrame.from_dict(result)\n",
    "print(df)"
   ]
  },
  {
   "cell_type": "code",
   "execution_count": null,
   "id": "0834273b-6c6f-49ac-bccd-e2afe727f131",
   "metadata": {},
   "outputs": [],
   "source": []
  }
 ],
 "metadata": {
  "kernelspec": {
   "display_name": "Python 3 (ipykernel)",
   "language": "python",
   "name": "python3"
  },
  "language_info": {
   "codemirror_mode": {
    "name": "ipython",
    "version": 3
   },
   "file_extension": ".py",
   "mimetype": "text/x-python",
   "name": "python",
   "nbconvert_exporter": "python",
   "pygments_lexer": "ipython3",
   "version": "3.12.7"
  }
 },
 "nbformat": 4,
 "nbformat_minor": 5
}
