{
 "cells": [
  {
   "cell_type": "code",
   "execution_count": 21,
   "id": "935d0fd4-a262-43fa-b50a-b02da7a837cb",
   "metadata": {},
   "outputs": [],
   "source": [
    "import numpy as np"
   ]
  },
  {
   "cell_type": "code",
   "execution_count": 22,
   "id": "3dfa8d86-a861-45b1-9bad-f85b3d56efc6",
   "metadata": {},
   "outputs": [],
   "source": [
    "n = int(input(\"Enter the number of equations: \")) \n",
    "var = int(input(\"Enter the number of variables: \"))"
   ]
  },
  {
   "cell_type": "code",
   "execution_count": 23,
   "id": "fc200248-2ec3-4a74-8e7e-5e1c08569bff",
   "metadata": {},
   "outputs": [],
   "source": [
    "l = []\n",
    "for i in range(n):\n",
    "    row = []\n",
    "    for j in range(var):\n",
    "        val = float(input(f\"Enter the coefficient of variable {j+1} in equation {i+1}: \"))\n",
    "        row.append(val)\n",
    "    l.append(row)\n",
    "mat = np.array(l)"
   ]
  },
  {
   "cell_type": "code",
   "execution_count": 24,
   "id": "fcd88d46-de1d-4dd7-8209-ac0616b42ade",
   "metadata": {},
   "outputs": [
    {
     "name": "stdout",
     "output_type": "stream",
     "text": [
      "[[0. 0. 2.]\n",
      " [1. 2. 3.]\n",
      " [2. 4. 6.]]\n"
     ]
    }
   ],
   "source": [
    "print(mat)"
   ]
  },
  {
   "cell_type": "code",
   "execution_count": 25,
   "id": "0944da23-a4f2-4085-a2b3-92bd9f143d04",
   "metadata": {},
   "outputs": [],
   "source": [
    "def RowOper_1(mat, r, c):\n",
    "    mat[r,:] /= mat[r][c]\n",
    "\n",
    "def RowOper_2(mat, r1, r2, c):\n",
    "    mat[r2,:] -= mat[r2][c]*mat[r1,:]\n",
    "\n",
    "def RowOper_3(mat, r1, r2):\n",
    "    mat[[r1, r2]] = mat[[r2, r1]]"
   ]
  },
  {
   "cell_type": "code",
   "execution_count": 26,
   "id": "5e5c27e9-f25a-4fe1-a1ba-62a2128ef841",
   "metadata": {},
   "outputs": [],
   "source": [
    "def GaussianElimination(mat, n, var):\n",
    "    curr = 0\n",
    "    for j in range(var):\n",
    "        if curr < n:\n",
    "            flag = 0\n",
    "            for i in range(curr , n):\n",
    "                if mat[i][j]!=0:\n",
    "                    flag = 1\n",
    "                    break\n",
    "            if flag==0:\n",
    "                continue\n",
    "            else:\n",
    "                RowOper_3(mat, curr, i)\n",
    "                RowOper_1(mat, curr, j)\n",
    "                for k in range(0, n):\n",
    "                    if k != curr:\n",
    "                        RowOper_2(mat, curr, k, j)\n",
    "            curr+=1\n",
    "        else:\n",
    "            break"
   ]
  },
  {
   "cell_type": "code",
   "execution_count": 27,
   "id": "81d6fc47",
   "metadata": {},
   "outputs": [],
   "source": [
    "GaussianElimination(mat, n, var)"
   ]
  },
  {
   "cell_type": "code",
   "execution_count": 28,
   "id": "d2f99ce3",
   "metadata": {},
   "outputs": [
    {
     "name": "stdout",
     "output_type": "stream",
     "text": [
      "[[1. 2. 0.]\n",
      " [0. 0. 1.]\n",
      " [0. 0. 0.]]\n"
     ]
    }
   ],
   "source": [
    "print(mat)"
   ]
  }
 ],
 "metadata": {
  "kernelspec": {
   "display_name": "my_env",
   "language": "python",
   "name": "python3"
  },
  "language_info": {
   "codemirror_mode": {
    "name": "ipython",
    "version": 3
   },
   "file_extension": ".py",
   "mimetype": "text/x-python",
   "name": "python",
   "nbconvert_exporter": "python",
   "pygments_lexer": "ipython3",
   "version": "3.10.16"
  }
 },
 "nbformat": 4,
 "nbformat_minor": 5
}
