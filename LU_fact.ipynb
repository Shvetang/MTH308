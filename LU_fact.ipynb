{
 "cells": [
  {
   "cell_type": "markdown",
   "id": "1af686d8-f8ec-4bf9-b942-f492095cbee7",
   "metadata": {},
   "source": [
    "# LU Factorisation\n",
    "\n",
    "Any non-singular matrix with leading minors non-singular can be uniquely expressed as the product of a lower and upper triangular matrix i.e A = LU   \n",
    "\n",
    "## Algorithm   \n",
    "\n",
    "Initialize L and U to 0   \n",
    "then for i = 1, 2, ... , size(A) do:   \n",
    "- set L[i][i] to 1\n",
    "- set t = 0\n",
    "- for j = 1, 2, 3, ... , i-1 do:\n",
    "  - t += L[i][j] * U[j][i]\n",
    "- U[i][i] = A[i][i] - t\n",
    "- for j  = i+1, ... , size(A) do:\n",
    "  - t = 0\n",
    "  - for k = 1, 2, 3, ... , i-1 do:\n",
    "    - t += L[j][k] * U[k][i]\n",
    "  -  L[j][i] = (A[j][i] - t)/U[i][i]\n",
    "- for j  = i+1, ... , size(A) do:\n",
    "  - t = 0\n",
    "  - for k = 1, 2, 3, ... , i-1 do:\n",
    "    - t += L[i][k] * U[k][j]\n",
    "  -  U[i][j] = A[i][j] - t\n",
    "\n",
    "Now to solve an equation Ax = b, take Ux as y and solve Ly = b using forward substitution    \n",
    "Then solve Ux = y using back substitution to get the final value of x"
   ]
  },
  {
   "cell_type": "code",
   "execution_count": 1,
   "id": "6da20175-777e-4669-8c32-ea6c64ece6f2",
   "metadata": {},
   "outputs": [],
   "source": [
    "import numpy as np"
   ]
  },
  {
   "cell_type": "code",
   "execution_count": 2,
   "id": "5716e739-9d30-486a-b80a-7d3a1ea09a6a",
   "metadata": {},
   "outputs": [],
   "source": [
    "A = np.array([[1, 1, 1], [4, 3, -1], [3, 5, 3]], dtype = np.float64)\n",
    "M = A.copy()"
   ]
  },
  {
   "cell_type": "code",
   "execution_count": 3,
   "id": "cef2f64f-fe5e-4382-ab0b-979d6fb72c3d",
   "metadata": {},
   "outputs": [],
   "source": [
    "b = np.array([1, 6, 4], dtype = np.float64)"
   ]
  },
  {
   "cell_type": "code",
   "execution_count": 4,
   "id": "3ab8adad-706b-42de-98bf-3660ab4788dd",
   "metadata": {},
   "outputs": [],
   "source": [
    "# Initializing L and U\n",
    "# A is non-singular so U will not have any diagonal entry as 0\n",
    "L = np.zeros_like(A, dtype = np.float64)\n",
    "U = np.zeros_like(A, dtype = np.float64)"
   ]
  },
  {
   "cell_type": "code",
   "execution_count": 5,
   "id": "670c6f0a-e0dd-40f9-b2a2-b6379a1b97ba",
   "metadata": {},
   "outputs": [],
   "source": [
    "def LU_fact():\n",
    "    # Implementing the Algorithm above\n",
    "    \n",
    "    n = len(A)\n",
    "    for i in range(n):\n",
    "        L[i][i] = 1\n",
    "        t = 0\n",
    "\n",
    "        for j in range(i):\n",
    "            t += L[i][j] * U[j][i]\n",
    "        U[i][i] = A[i][i] - t\n",
    "\n",
    "        for j in range(i+1, n):\n",
    "            t = 0\n",
    "            for k in range(i):\n",
    "                t += L[j][k] * U[k][i]\n",
    "            L[j][i] = (A[j][i] - t)/U[i][i]\n",
    "\n",
    "        for j in range(i+1, n):\n",
    "            t = 0\n",
    "            for k in range(i):\n",
    "                t += L[i][k] * U[k][j]\n",
    "            U[i][j] = A[i][j] - t"
   ]
  },
  {
   "cell_type": "code",
   "execution_count": 6,
   "id": "fa2226f1-7e0a-4a8a-96a0-3c87f2f93698",
   "metadata": {},
   "outputs": [
    {
     "name": "stdout",
     "output_type": "stream",
     "text": [
      "A is :\n",
      "[[ 1.  1.  1.]\n",
      " [ 4.  3. -1.]\n",
      " [ 3.  5.  3.]]\n",
      "\n",
      "L is :\n",
      "[[ 1.  0.  0.]\n",
      " [ 4.  1.  0.]\n",
      " [ 3. -2.  1.]]\n",
      "\n",
      "U is :\n",
      "[[  1.   1.   1.]\n",
      " [  0.  -1.  -5.]\n",
      " [  0.   0. -10.]]\n"
     ]
    }
   ],
   "source": [
    "LU_fact()      # Finding the LU factorisation of A\n",
    "print(f\"A is :\\n{M}\")\n",
    "print(f\"\\nL is :\\n{L}\")\n",
    "print(f\"\\nU is :\\n{U}\")"
   ]
  },
  {
   "cell_type": "code",
   "execution_count": 7,
   "id": "fece0477-e058-4907-a60e-2f550ee95a40",
   "metadata": {},
   "outputs": [
    {
     "name": "stdout",
     "output_type": "stream",
     "text": [
      "Product of L and U is: \n",
      "[[ 1.  1.  1.]\n",
      " [ 4.  3. -1.]\n",
      " [ 3.  5.  3.]]\n"
     ]
    }
   ],
   "source": [
    "print(f\"Product of L and U is: \\n{L@U}\")     # Confirming that LU = A"
   ]
  },
  {
   "cell_type": "code",
   "execution_count": 8,
   "id": "fb94359e-c8ec-4c16-b4f2-e1ea7cb70d11",
   "metadata": {},
   "outputs": [],
   "source": [
    "# Taking Ux = y and solving Ly = b for y by forward substitution\n",
    "def for_sub(L, b):\n",
    "    n = len(L)\n",
    "    x = [b[0] / L[0][0]] + [0]*(n-1)\n",
    "    for i in range(1, n):\n",
    "        s = 0\n",
    "        for j in range(i):\n",
    "            s += L[i][j] * x[j]\n",
    "        x[i] = (b[i] - s) / L[i][i]\n",
    "    return x"
   ]
  },
  {
   "cell_type": "code",
   "execution_count": 9,
   "id": "cf62f960-7aff-4c69-b030-99c8ae9d7afd",
   "metadata": {},
   "outputs": [],
   "source": [
    "y = for_sub(L, b)"
   ]
  },
  {
   "cell_type": "code",
   "execution_count": 10,
   "id": "cf27175e-fe8a-44fb-abd6-4eab0b9cd93d",
   "metadata": {},
   "outputs": [],
   "source": [
    "# Solving Ux = y for x by back substitution\n",
    "def back_sub(U, b):\n",
    "    n = len(U)\n",
    "    x = [0]*(n-1) + [b[n-1] / U[n-1][n-1]]\n",
    "    for i in range(n-2, -1, -1):\n",
    "        s = 0\n",
    "        for j in range(i+1, n):\n",
    "            s += U[i][j] * x[j]\n",
    "        x[i] = (b[i] - s) / U[i][i]\n",
    "    return x"
   ]
  },
  {
   "cell_type": "code",
   "execution_count": 11,
   "id": "e5cc6322-31a4-47be-864a-37a2197cb577",
   "metadata": {},
   "outputs": [],
   "source": [
    "x = back_sub(U, y)"
   ]
  },
  {
   "cell_type": "code",
   "execution_count": 14,
   "id": "ee2d03b5-6661-4461-8ed5-bf5a4edf15b3",
   "metadata": {},
   "outputs": [
    {
     "name": "stdout",
     "output_type": "stream",
     "text": [
      "The final solution is:\n",
      "x1: 1.0\n",
      "x2: 0.5\n",
      "x3: -0.5\n"
     ]
    }
   ],
   "source": [
    "x1, x2, x3 = x\n",
    "print(f\"The final solution is:\\nx1: {x1}\\nx2: {x2}\\nx3: {x3}\")"
   ]
  }
 ],
 "metadata": {
  "kernelspec": {
   "display_name": "env",
   "language": "python",
   "name": "python3"
  },
  "language_info": {
   "codemirror_mode": {
    "name": "ipython",
    "version": 3
   },
   "file_extension": ".py",
   "mimetype": "text/x-python",
   "name": "python",
   "nbconvert_exporter": "python",
   "pygments_lexer": "ipython3",
   "version": "3.10.16"
  }
 },
 "nbformat": 4,
 "nbformat_minor": 5
}
