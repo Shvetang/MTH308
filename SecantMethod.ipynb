{
 "cells": [
  {
   "cell_type": "markdown",
   "id": "1165b6fa-dcca-407b-835f-8e7f633247be",
   "metadata": {},
   "source": [
    "# The Secant Method\n",
    "Calculate the next estimate of the root from two initial guesses  \n",
    "x<sub>i+1</sub> = x<sub>i</sub> - (f(x<sub>i</sub>)(x<sub>i</sub> - x<sub>i-1</sub>)/(f(x<sub>i</sub>) - f(x<sub>i-1</sub>))   \n",
    "The absolute relative error can be calculated as e = |x<sub>i+1</sub> - x<sub>i</sub>|/|x<sub>i+1</sub>|   \n",
    "Works with any point as starting point, as long as two initial guesses for each root are made, as x<sub>-1</sub> and x<sub>0</sub>   \n",
    "The initial guesses allow one to estimate the behaviour of the function near the supposed roots  "
   ]
  },
  {
   "cell_type": "code",
   "execution_count": 20,
   "id": "edc1c42f-0ed0-4624-b7dd-2b56b66c1097",
   "metadata": {},
   "outputs": [],
   "source": [
    "import pandas as pd"
   ]
  },
  {
   "cell_type": "code",
   "execution_count": 21,
   "id": "a2789ae1-5b1f-4f19-8b9b-4a142350a0e2",
   "metadata": {},
   "outputs": [],
   "source": [
    "# Define the function\n",
    "def f(x):\n",
    "    return 2*x**3 - 5*x/2 - 5"
   ]
  },
  {
   "cell_type": "code",
   "execution_count": 22,
   "id": "41601ca8-8999-4860-93d7-860e45837b5d",
   "metadata": {},
   "outputs": [],
   "source": [
    "# Set x_-1 and x_0\n",
    "x__1 = 1.0\n",
    "x_0 = 2.0"
   ]
  },
  {
   "cell_type": "code",
   "execution_count": 23,
   "id": "c1458497-7105-4c8c-b443-95c580c91dd6",
   "metadata": {},
   "outputs": [],
   "source": [
    "result = {\"Iteration\":[0], \"x_i-1\":[x__1], \"x_i\":[x_0], \"x_i+1\":[], \"f(x_i+1)\":[], \"Absolute error %\":[]}"
   ]
  },
  {
   "cell_type": "code",
   "execution_count": 24,
   "id": "defe0c5e-0dc2-49b3-a378-12b9017c4218",
   "metadata": {},
   "outputs": [],
   "source": [
    "# Define the algorithm\n",
    "def secant_method(x_i_1, x_i):\n",
    "    x_i__1 = x_i - (f(x_i)*(x_i - x_i_1)/(f(x_i) - f(x_i_1)))\n",
    "    e = abs((x_i__1 - x_i)/x_i__1)\n",
    "    return x_i__1, e"
   ]
  },
  {
   "cell_type": "code",
   "execution_count": 25,
   "id": "63aa2411-3590-442f-8e4b-7ff1e5f86f1f",
   "metadata": {},
   "outputs": [],
   "source": [
    "x_1, e = secant_method(x__1, x_0)\n",
    "result[\"x_i+1\"].append(x_1)\n",
    "result[\"f(x_i+1)\"].append(f(x_1))\n",
    "result[\"Absolute error %\"].append(e)"
   ]
  },
  {
   "cell_type": "code",
   "execution_count": 26,
   "id": "df24553f-adc7-4d00-b1c9-e033e4087712",
   "metadata": {},
   "outputs": [
    {
     "name": "stdout",
     "output_type": "stream",
     "text": [
      "Root found: 1.6198574764955984\n"
     ]
    }
   ],
   "source": [
    "x_i_1, x_i = x_0, x_1\n",
    "n = 9\n",
    "for i in range(n):\n",
    "    x_i__1, e = secant_method(x_i_1, x_i)\n",
    "    \n",
    "    result[\"Iteration\"].append(i+1)\n",
    "    result[\"x_i-1\"].append(x_i__1)\n",
    "    result[\"x_i\"].append(x_i__1)\n",
    "    result[\"x_i+1\"].append(x_i__1)\n",
    "    result[\"f(x_i+1)\"].append(f(x_i__1))\n",
    "    result[\"Absolute error %\"].append(e)\n",
    "\n",
    "    if f(x_i__1)==0:\n",
    "        print(\"Root found:\", x_i__1)\n",
    "        break\n",
    "    if (x_i__1 == x_i): \n",
    "        print(\"Precision exceeded\")\n",
    "        break\n",
    "\n",
    "    x_i_1, x_i = x_i, x_i__1"
   ]
  },
  {
   "cell_type": "code",
   "execution_count": 19,
   "id": "ff26c2b7-bb32-48d0-b5fc-1ff39b0151c3",
   "metadata": {},
   "outputs": [
    {
     "name": "stdout",
     "output_type": "stream",
     "text": [
      "   Iteration     x_i-1       x_i     x_i+1      f(x_i+1)  Absolute error %\n",
      "0          0  1.000000  2.000000  1.478261 -2.234898e+00      3.529412e-01\n",
      "1          1  1.619857  1.619857  1.619857 -5.488317e-01      8.741300e-02\n",
      "2          2  1.665949  1.665949  1.665949  8.242544e-02      2.766661e-02\n",
      "3          3  1.659930  1.659930  1.659930 -2.385524e-03      3.625623e-03\n",
      "4          4  1.660100  1.660100  1.660100 -9.873392e-06      1.019695e-04\n",
      "5          5  1.660100  1.660100  1.660100  1.191145e-09      4.237930e-07\n",
      "6          6  1.660100  1.660100  1.660100 -8.881784e-16      5.112108e-11\n",
      "7          7  1.660100  1.660100  1.660100 -8.881784e-16      0.000000e+00\n"
     ]
    }
   ],
   "source": [
    "df = pd.DataFrame.from_dict(result)\n",
    "print(df)"
   ]
  },
  {
   "cell_type": "code",
   "execution_count": null,
   "id": "c6916700-548c-4b9a-b1f2-020f12764aae",
   "metadata": {},
   "outputs": [],
   "source": []
  }
 ],
 "metadata": {
  "kernelspec": {
   "display_name": "Python 3 (ipykernel)",
   "language": "python",
   "name": "python3"
  },
  "language_info": {
   "codemirror_mode": {
    "name": "ipython",
    "version": 3
   },
   "file_extension": ".py",
   "mimetype": "text/x-python",
   "name": "python",
   "nbconvert_exporter": "python",
   "pygments_lexer": "ipython3",
   "version": "3.10.16"
  }
 },
 "nbformat": 4,
 "nbformat_minor": 5
}
