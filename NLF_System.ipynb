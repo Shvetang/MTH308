{
 "cells": [
  {
   "cell_type": "code",
   "execution_count": 9,
   "metadata": {},
   "outputs": [],
   "source": [
    "import numpy as np \n",
    "import pandas as pd"
   ]
  },
  {
   "cell_type": "code",
   "execution_count": 10,
   "metadata": {},
   "outputs": [],
   "source": [
    "x0 = [1, 1]  # Initial guess\n",
    "df = {\"x_1\":[], \"x_2\":[], \"del_x\":[], \"f(x)_1\":[], \"f(x)_2\":[]}"
   ]
  },
  {
   "cell_type": "code",
   "execution_count": 11,
   "metadata": {},
   "outputs": [],
   "source": [
    "# Example: Solving f1(x,y) = x^2 + y^2 - 4, f2(x,y) = x - y\n",
    "def F(v):\n",
    "    x, y = v\n",
    "    return [x**2 + y**2 - 4, x - y]\n",
    "\n",
    "def J(v):\n",
    "    x, y = v\n",
    "    return [[2*x, 2*y], [1, -1]]"
   ]
  },
  {
   "cell_type": "code",
   "execution_count": 12,
   "metadata": {},
   "outputs": [],
   "source": [
    "def newton_raphson_system(F, J, x0, tol=1e-6, max_iter=100):\n",
    "    x = np.array(x0, dtype=float)\n",
    "    \n",
    "    for i in range(max_iter):\n",
    "        Fx = np.array(F(x))  # Evaluate function vector\n",
    "        Jx = np.array(J(x))  # Evaluate Jacobian matrix\n",
    "        \n",
    "        if np.linalg.norm(Fx) < tol:\n",
    "            break  # Convergence achieved\n",
    "        \n",
    "        dx = np.linalg.solve(Jx, -Fx)  # Solve J dx = -F using NumPy\n",
    "        x += dx  # Update solution\n",
    "        \n",
    "        if np.linalg.norm(dx) < tol:\n",
    "            break  # Small step size\n",
    "\n",
    "        df[\"x_1\"].append(x[0])\n",
    "        df[\"x_2\"].append(x[1])\n",
    "        df[\"del_x\"].append(np.linalg.norm(dx))\n",
    "        df[\"f(x)_1\"].append(F(x)[0])\n",
    "        df[\"f(x)_2\"].append(F(x)[1])\n",
    "    \n",
    "    return x"
   ]
  },
  {
   "cell_type": "code",
   "execution_count": 13,
   "metadata": {},
   "outputs": [],
   "source": [
    "df[\"x_1\"].append(1)\n",
    "df[\"x_2\"].append(1)\n",
    "df[\"del_x\"].append(None)\n",
    "df[\"f(x)_1\"].append(F(x0)[0])\n",
    "df[\"f(x)_2\"].append(F(x0)[1])"
   ]
  },
  {
   "cell_type": "code",
   "execution_count": 14,
   "metadata": {},
   "outputs": [],
   "source": [
    "solution = newton_raphson_system(F, J, x0)"
   ]
  },
  {
   "cell_type": "code",
   "execution_count": 15,
   "metadata": {},
   "outputs": [
    {
     "name": "stdout",
     "output_type": "stream",
     "text": [
      "        x_1       x_2     del_x        f(x)_1  f(x)_2\n",
      "0  1.000000  1.000000       NaN -2.000000e+00     0.0\n",
      "1  1.500000  1.500000  0.707107  5.000000e-01     0.0\n",
      "2  1.416667  1.416667  0.117851  1.388889e-02     0.0\n",
      "3  1.414216  1.414216  0.003466  1.201461e-05     0.0\n",
      "4  1.414214  1.414214  0.000003  9.021228e-12     0.0\n",
      "Solution: [1.41421356 1.41421356]\n"
     ]
    }
   ],
   "source": [
    "df = pd.DataFrame.from_dict(df)\n",
    "print(df)\n",
    "print(\"Solution:\", solution)"
   ]
  }
 ],
 "metadata": {
  "kernelspec": {
   "display_name": "env",
   "language": "python",
   "name": "python3"
  },
  "language_info": {
   "codemirror_mode": {
    "name": "ipython",
    "version": 3
   },
   "file_extension": ".py",
   "mimetype": "text/x-python",
   "name": "python",
   "nbconvert_exporter": "python",
   "pygments_lexer": "ipython3",
   "version": "3.10.13"
  }
 },
 "nbformat": 4,
 "nbformat_minor": 2
}
