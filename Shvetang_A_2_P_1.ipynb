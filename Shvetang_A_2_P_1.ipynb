{
 "cells": [
  {
   "cell_type": "markdown",
   "id": "1165b6fa-dcca-407b-835f-8e7f633247be",
   "metadata": {},
   "source": [
    "# The Newton-Raphson Method\n",
    "Calculate the next estimate of the root from an initial guesses  \n",
    "Works by repeatedly taking the linear approximation of the function using its derivative\n",
    "\n",
    "## Algorithm \n",
    "\n",
    "- Input:\n",
    "    - Function f(x)\n",
    "    - Its derivative f′(x)\n",
    "    - Initial guess x<sub>0</sub>(starting point for the iteration).\n",
    "    - Tolerance level \n",
    "\n",
    "- Iterative steps:\n",
    "    - x<sub>i+1</sub> = x<sub>i</sub> - f(x<sub>i</sub>)/(f'(x<sub>i</sub>)  \n",
    "    - The absolute relative error can be calculated as e = |x<sub>i+1</sub> - x<sub>i</sub>|/|x<sub>i+1</sub>|\n",
    "    - Increment i and set the new value of the estimate and the old value for the next iteration until the tolerance level is crossed\n",
    "    "
   ]
  },
  {
   "cell_type": "code",
   "execution_count": 1,
   "id": "edc1c42f-0ed0-4624-b7dd-2b56b66c1097",
   "metadata": {},
   "outputs": [
    {
     "name": "stdout",
     "output_type": "stream",
     "text": [
      "Defaulting to user installation because normal site-packages is not writeable\n",
      "Requirement already satisfied: pandas in c:\\programdata\\anaconda3\\lib\\site-packages (2.2.2)\n",
      "Requirement already satisfied: numpy>=1.26.0 in c:\\programdata\\anaconda3\\lib\\site-packages (from pandas) (1.26.4)\n",
      "Requirement already satisfied: python-dateutil>=2.8.2 in c:\\programdata\\anaconda3\\lib\\site-packages (from pandas) (2.9.0.post0)\n",
      "Requirement already satisfied: pytz>=2020.1 in c:\\programdata\\anaconda3\\lib\\site-packages (from pandas) (2024.1)\n",
      "Requirement already satisfied: tzdata>=2022.7 in c:\\programdata\\anaconda3\\lib\\site-packages (from pandas) (2023.3)\n",
      "Requirement already satisfied: six>=1.5 in c:\\programdata\\anaconda3\\lib\\site-packages (from python-dateutil>=2.8.2->pandas) (1.16.0)\n"
     ]
    }
   ],
   "source": [
    "!pip install pandas\n",
    "import pandas as pd\n",
    "import math"
   ]
  },
  {
   "cell_type": "code",
   "execution_count": 2,
   "id": "a2789ae1-5b1f-4f19-8b9b-4a142350a0e2",
   "metadata": {},
   "outputs": [],
   "source": [
    "# Define the function\n",
    "def f(x):\n",
    "    return x**2 - 2"
   ]
  },
  {
   "cell_type": "code",
   "execution_count": 3,
   "id": "c623bd2f-01ed-4b3f-8a46-dfed567bfb07",
   "metadata": {},
   "outputs": [],
   "source": [
    "# Define the derivative of the function\n",
    "def f_(x):\n",
    "    return 2*x"
   ]
  },
  {
   "cell_type": "code",
   "execution_count": 4,
   "id": "41601ca8-8999-4860-93d7-860e45837b5d",
   "metadata": {},
   "outputs": [],
   "source": [
    "# Set x_0\n",
    "# We want the positive root of this function, i.e. sqrt(2) which lies between 1 and 2\n",
    "x_0 = 1.0"
   ]
  },
  {
   "cell_type": "code",
   "execution_count": 5,
   "id": "c1458497-7105-4c8c-b443-95c580c91dd6",
   "metadata": {},
   "outputs": [],
   "source": [
    "result = {\"Iteration\":[0], \"x_i-1\":[x_0], \"x_i\":[], \"f(x_i)\":[], \"Absolute error %\":[]}"
   ]
  },
  {
   "cell_type": "code",
   "execution_count": 6,
   "id": "defe0c5e-0dc2-49b3-a378-12b9017c4218",
   "metadata": {},
   "outputs": [],
   "source": [
    "# Define the algorithm\n",
    "def newtonraphson_method(x_i_1):\n",
    "    x_i = x_i_1 - f(x_i_1)/f_(x_i_1)\n",
    "    e = abs((x_i - x_i_1)/x_i)\n",
    "    return x_i, e"
   ]
  },
  {
   "cell_type": "code",
   "execution_count": 7,
   "id": "63aa2411-3590-442f-8e4b-7ff1e5f86f1f",
   "metadata": {},
   "outputs": [],
   "source": [
    "x_1, e = newtonraphson_method(x_0)\n",
    "result[\"x_i\"].append(x_1)\n",
    "result[\"f(x_i)\"].append(f(x_1))\n",
    "result[\"Absolute error %\"].append(e)"
   ]
  },
  {
   "cell_type": "code",
   "execution_count": 8,
   "id": "df24553f-adc7-4d00-b1c9-e033e4087712",
   "metadata": {},
   "outputs": [],
   "source": [
    "x_i_1 = x_0\n",
    "x_i = x_1\n",
    "i = 0\n",
    "while (i==0 or abs(x_i - x_i_1)>1e-7):   \n",
    "    x_i_1 = x_i\n",
    "    x_i, e = newtonraphson_method(x_i_1)\n",
    "    \n",
    "    result[\"Iteration\"].append(i+1)\n",
    "    result[\"x_i-1\"].append(x_i_1)\n",
    "    result[\"x_i\"].append(x_i)\n",
    "    result[\"f(x_i)\"].append(f(x_i))\n",
    "    result[\"Absolute error %\"].append(e)\n",
    "\n",
    "    if f(x_i)==0:\n",
    "        print(\"Root found:\", x_i)\n",
    "        break\n",
    "     \n",
    "    i+=1    "
   ]
  },
  {
   "cell_type": "code",
   "execution_count": 9,
   "id": "ff26c2b7-bb32-48d0-b5fc-1ff39b0151c3",
   "metadata": {},
   "outputs": [
    {
     "name": "stdout",
     "output_type": "stream",
     "text": [
      "   Iteration     x_i-1       x_i        f(x_i)  Absolute error %\n",
      "0          0  1.000000  1.500000  2.500000e-01      3.333333e-01\n",
      "1          1  1.500000  1.416667  6.944444e-03      5.882353e-02\n",
      "2          2  1.416667  1.414216  6.007305e-06      1.733102e-03\n",
      "3          3  1.414216  1.414214  4.510614e-12      1.501824e-06\n",
      "4          4  1.414214  1.414214  4.440892e-16      1.127640e-12\n"
     ]
    }
   ],
   "source": [
    "df = pd.DataFrame.from_dict(result)\n",
    "print(df)"
   ]
  },
  {
   "cell_type": "code",
   "execution_count": 10,
   "id": "c2456613-2374-418c-852f-a24b22c8a227",
   "metadata": {},
   "outputs": [
    {
     "name": "stdout",
     "output_type": "stream",
     "text": [
      "Final Result : 1.4142135623730951 with |Error|% : 1.1276404038266872e-12\n"
     ]
    }
   ],
   "source": [
    "print(f\"Final Result : {x_i} with |Error|% : {e}\")"
   ]
  },
  {
   "cell_type": "code",
   "execution_count": 13,
   "id": "0834273b-6c6f-49ac-bccd-e2afe727f131",
   "metadata": {},
   "outputs": [
    {
     "name": "stdout",
     "output_type": "stream",
     "text": [
      "-1.5947243525715749e-12\n",
      "False\n"
     ]
    }
   ],
   "source": [
    "print(x_i - x_i_1) # Confirming that we have satisfied the tolerance criterion\n",
    "print(abs((x_i - x_i_1))>1e-7)"
   ]
  }
 ],
 "metadata": {
  "kernelspec": {
   "display_name": "Python 3 (ipykernel)",
   "language": "python",
   "name": "python3"
  },
  "language_info": {
   "codemirror_mode": {
    "name": "ipython",
    "version": 3
   },
   "file_extension": ".py",
   "mimetype": "text/x-python",
   "name": "python",
   "nbconvert_exporter": "python",
   "pygments_lexer": "ipython3",
   "version": "3.12.7"
  }
 },
 "nbformat": 4,
 "nbformat_minor": 5
}
